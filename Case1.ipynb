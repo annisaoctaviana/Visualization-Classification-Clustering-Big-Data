{
 "cells": [
  {
   "cell_type": "code",
   "execution_count": 7,
   "metadata": {},
   "outputs": [],
   "source": [
    "from pyspark.sql import SparkSession\n",
    "import matplotlib.pyplot as plt"
   ]
  },
  {
   "cell_type": "code",
   "execution_count": 8,
   "metadata": {},
   "outputs": [],
   "source": [
    "spark = SparkSession.builder.getOrCreate()"
   ]
  },
  {
   "cell_type": "code",
   "execution_count": 9,
   "metadata": {},
   "outputs": [],
   "source": [
    "msnpc = spark.read.csv(\"Query + Visualization/MsNPC.csv\", header=True, inferSchema=True)\n",
    "msplayer = spark.read.csv(\"Query + Visualization/MsPlayer.csv\", header=True, inferSchema=True)\n",
    "msweapon = spark.read.csv(\"Query + Visualization/MsWeapon.csv\", header=True, inferSchema=True)\n",
    "msweapontype = spark.read.csv(\"Query + Visualization/MsWeaponType.csv\", header=True, inferSchema=True)\n",
    "transactiondetail = spark.read.csv(\"Query + Visualization/TransactionDetail.csv\", header=True, inferSchema=True)\n",
    "transactionheader = spark.read.csv(\"Query + Visualization/TransactionHeader.csv\", header=True, inferSchema=True)\n",
    "\n",
    "msnpc.registerTempTable(\"MsNPC\")\n",
    "msplayer.registerTempTable(\"MsPlayer\")\n",
    "msweapon.registerTempTable(\"MsWeapon\")\n",
    "msweapontype.registerTempTable(\"MsWeaponType\")\n",
    "transactiondetail.registerTempTable(\"TransactionDetail\")\n",
    "transactionheader.registerTempTable(\"TransactionHeader\")"
   ]
  },
  {
   "cell_type": "code",
   "execution_count": 22,
   "metadata": {},
   "outputs": [],
   "source": [
    "res1 = spark.sql(\"SELECT WeaponTypeName, SUM((Quantity * WeaponPrice)/100) AS WeaponPercent FROM MsWeaponType wt, MsWeapon w, TransactionDetail td, TransactionHeader th WHERE wt.WeaponTypeId = w.WeaponTypeId AND w.WeaponId = td.WeaponId AND td.TransactionId = th.TransactionId AND YEAR(TransactionDate) = 2019 GROUP BY WeaponTypeName ORDER BY WeaponPercent ASC LIMIT 5\")\n",
    "res1 = res1.toPandas()"
   ]
  },
  {
   "cell_type": "code",
   "execution_count": 95,
   "metadata": {},
   "outputs": [
    {
     "data": {
      "image/png": "[encoded data removed]",
      "text/plain": [
       "<Figure size 432x288 with 1 Axes>"
      ]
     },
     "metadata": {},
     "output_type": "display_data"
    }
   ],
   "source": [
    "plt.title(\"Weapon Type Revenue Distribution in 2019\")\n",
    "plt.pie(res1[\"WeaponPercent\"], labels=res1[\"WeaponTypeName\"], autopct = \"%.2f%%\")\n",
    "plt.show()"
   ]
  },
  {
   "cell_type": "code",
   "execution_count": 31,
   "metadata": {},
   "outputs": [
    {
     "data": {
      "text/html": [
       "<div>\n",
       "<style scoped>\n",
       "    .dataframe tbody tr th:only-of-type {\n",
       "        vertical-align: middle;\n",
       "    }\n",
       "\n",
       "    .dataframe tbody tr th {\n",
       "        vertical-align: top;\n",
       "    }\n",
       "\n",
       "    .dataframe thead th {\n",
       "        text-align: right;\n",
       "    }\n",
       "</style>\n",
       "<table border=\"1\" class=\"dataframe\">\n",
       "  <thead>\n",
       "    <tr style=\"text-align: right;\">\n",
       "      <th></th>\n",
       "      <th>TotalPlayer</th>\n",
       "      <th>Month</th>\n",
       "    </tr>\n",
       "  </thead>\n",
       "  <tbody>\n",
       "    <tr>\n",
       "      <th>0</th>\n",
       "      <td>8</td>\n",
       "      <td>1</td>\n",
       "    </tr>\n",
       "    <tr>\n",
       "      <th>1</th>\n",
       "      <td>7</td>\n",
       "      <td>2</td>\n",
       "    </tr>\n",
       "    <tr>\n",
       "      <th>2</th>\n",
       "      <td>5</td>\n",
       "      <td>3</td>\n",
       "    </tr>\n",
       "    <tr>\n",
       "      <th>3</th>\n",
       "      <td>6</td>\n",
       "      <td>4</td>\n",
       "    </tr>\n",
       "    <tr>\n",
       "      <th>4</th>\n",
       "      <td>4</td>\n",
       "      <td>5</td>\n",
       "    </tr>\n",
       "    <tr>\n",
       "      <th>5</th>\n",
       "      <td>5</td>\n",
       "      <td>6</td>\n",
       "    </tr>\n",
       "    <tr>\n",
       "      <th>6</th>\n",
       "      <td>4</td>\n",
       "      <td>7</td>\n",
       "    </tr>\n",
       "    <tr>\n",
       "      <th>7</th>\n",
       "      <td>3</td>\n",
       "      <td>8</td>\n",
       "    </tr>\n",
       "    <tr>\n",
       "      <th>8</th>\n",
       "      <td>1</td>\n",
       "      <td>9</td>\n",
       "    </tr>\n",
       "    <tr>\n",
       "      <th>9</th>\n",
       "      <td>6</td>\n",
       "      <td>10</td>\n",
       "    </tr>\n",
       "    <tr>\n",
       "      <th>10</th>\n",
       "      <td>5</td>\n",
       "      <td>12</td>\n",
       "    </tr>\n",
       "  </tbody>\n",
       "</table>\n",
       "</div>"
      ],
      "text/plain": [
       "    TotalPlayer  Month\n",
       "0             8      1\n",
       "1             7      2\n",
       "2             5      3\n",
       "3             6      4\n",
       "4             4      5\n",
       "5             5      6\n",
       "6             4      7\n",
       "7             3      8\n",
       "8             1      9\n",
       "9             6     10\n",
       "10            5     12"
      ]
     },
     "execution_count": 31,
     "metadata": {},
     "output_type": "execute_result"
    }
   ],
   "source": [
    "res2 = spark.sql(\"SELECT COUNT(DISTINCT p.PlayerId) AS TotalPlayer, MONTH(TransactionDate) AS Month FROM MsPlayer p, TransactionHeader th, TransactionDetail td, MsWeapon w, MsWeaponType wt WHERE p.PlayerId = th.PlayerId AND th.TransactionId = td.TransactionId AND td.WeaponId = w.WeaponId AND w.WeaponTypeId = wt.WeaponTypeId AND WeaponTypeName LIKE 'Axe' AND YEAR(TransactionDate) = 2019 GROUP BY MONTH(TransactionDate) ORDER BY MONTH(TransactionDate)\")\n",
    "res2 = res2.toPandas()\n",
    "res2"
   ]
  },
  {
   "cell_type": "code",
   "execution_count": 33,
   "metadata": {},
   "outputs": [
    {
     "data": {
      "image/png": "[encoded data removed]",
      "text/plain": [
       "<Figure size 432x288 with 1 Axes>"
      ]
     },
     "metadata": {
      "needs_background": "light"
     },
     "output_type": "display_data"
    }
   ],
   "source": [
    "plt.plot(res2[\"TotalPlayer\"])\n",
    "plt.xticks(range(len(res2[\"Month\"])), res2[\"Month\"])\n",
    "plt.title(\"Axe Buyer in 2019 Statistics\")\n",
    "plt.xlabel(\"Month\")\n",
    "plt.ylabel(\"Player Count\")\n",
    "plt.show()"
   ]
  },
  {
   "cell_type": "code",
   "execution_count": 51,
   "metadata": {},
   "outputs": [
    {
     "data": {
      "text/html": [
       "<div>\n",
       "<style scoped>\n",
       "    .dataframe tbody tr th:only-of-type {\n",
       "        vertical-align: middle;\n",
       "    }\n",
       "\n",
       "    .dataframe tbody tr th {\n",
       "        vertical-align: top;\n",
       "    }\n",
       "\n",
       "    .dataframe thead th {\n",
       "        text-align: right;\n",
       "    }\n",
       "</style>\n",
       "<table border=\"1\" class=\"dataframe\">\n",
       "  <thead>\n",
       "    <tr style=\"text-align: right;\">\n",
       "      <th></th>\n",
       "      <th>SpecialWeapon</th>\n",
       "      <th>Frequency</th>\n",
       "    </tr>\n",
       "  </thead>\n",
       "  <tbody>\n",
       "    <tr>\n",
       "      <th>0</th>\n",
       "      <td>Stormbreaker</td>\n",
       "      <td>17</td>\n",
       "    </tr>\n",
       "    <tr>\n",
       "      <th>1</th>\n",
       "      <td>Nightfall</td>\n",
       "      <td>9</td>\n",
       "    </tr>\n",
       "    <tr>\n",
       "      <th>2</th>\n",
       "      <td>Extinction</td>\n",
       "      <td>7</td>\n",
       "    </tr>\n",
       "  </tbody>\n",
       "</table>\n",
       "</div>"
      ],
      "text/plain": [
       "  SpecialWeapon  Frequency\n",
       "0  Stormbreaker         17\n",
       "1     Nightfall          9\n",
       "2    Extinction          7"
      ]
     },
     "execution_count": 51,
     "metadata": {},
     "output_type": "execute_result"
    }
   ],
   "source": [
    "res3 = spark.sql(\"SELECT x.SpecialWeapon, COUNT(x.SpecialWeapon) AS Frequency FROM(SELECT p.PlayerId, CASE WHEN sum(WeaponPrice*Quantity) >2000000 THEN 'Extinction' WHEN SUM(WeaponPrice*Quantity) >=1500000 AND SUM(WeaponPrice*Quantity) <=1999999 THEN 'Nightfall' WHEN SUM(WeaponPrice*Quantity)>=1000000 THEN 'Stormbreaker' END AS SpecialWeapon FROM MsPlayer p,TransactionHeader th, TransactionDetail td, MsWeapon w WHERE p.PlayerId = th.PlayerId AND th.TransactionId = td.TransactionId AND td.WeaponId = w.WeaponId AND PlayerGender LIKE 'Female' AND YEAR(TransactionDate) = 2019 GROUP BY p.PlayerId,  MONTH(TransactionDate) ORDER BY SUM(WeaponPrice*Quantity) DESC)AS x GROUP BY x.SpecialWeapon ORDER BY Frequency DESC LIMIT 3\")\n",
    "res3 = res3.toPandas()\n",
    "res3"
   ]
  },
  {
   "cell_type": "code",
   "execution_count": 54,
   "metadata": {},
   "outputs": [
    {
     "data": {
      "image/png": "[encoded data removed]",
      "text/plain": [
       "<Figure size 432x288 with 1 Axes>"
      ]
     },
     "metadata": {
      "needs_background": "light"
     },
     "output_type": "display_data"
    }
   ],
   "source": [
    "plt.bar(res3[\"SpecialWeapon\"], res3[\"Frequency\"])\n",
    "plt.title(\"Frequency of Special Weapons distributed to Female Player in 2019\")\n",
    "plt.xlabel(\"Weapon Name\")\n",
    "plt.ylabel(\"Frequency\")\n",
    "plt.show()"
   ]
  },
  {
   "cell_type": "code",
   "execution_count": 94,
   "metadata": {},
   "outputs": [
    {
     "data": {
      "text/html": [
       "<div>\n",
       "<style scoped>\n",
       "    .dataframe tbody tr th:only-of-type {\n",
       "        vertical-align: middle;\n",
       "    }\n",
       "\n",
       "    .dataframe tbody tr th {\n",
       "        vertical-align: top;\n",
       "    }\n",
       "\n",
       "    .dataframe thead th {\n",
       "        text-align: right;\n",
       "    }\n",
       "</style>\n",
       "<table border=\"1\" class=\"dataframe\">\n",
       "  <thead>\n",
       "    <tr style=\"text-align: right;\">\n",
       "      <th></th>\n",
       "      <th>Month</th>\n",
       "      <th>TotalPlayer</th>\n",
       "    </tr>\n",
       "  </thead>\n",
       "  <tbody>\n",
       "    <tr>\n",
       "      <th>0</th>\n",
       "      <td>1</td>\n",
       "      <td>11</td>\n",
       "    </tr>\n",
       "    <tr>\n",
       "      <th>1</th>\n",
       "      <td>2</td>\n",
       "      <td>10</td>\n",
       "    </tr>\n",
       "    <tr>\n",
       "      <th>2</th>\n",
       "      <td>3</td>\n",
       "      <td>7</td>\n",
       "    </tr>\n",
       "    <tr>\n",
       "      <th>3</th>\n",
       "      <td>4</td>\n",
       "      <td>8</td>\n",
       "    </tr>\n",
       "    <tr>\n",
       "      <th>4</th>\n",
       "      <td>5</td>\n",
       "      <td>5</td>\n",
       "    </tr>\n",
       "    <tr>\n",
       "      <th>5</th>\n",
       "      <td>6</td>\n",
       "      <td>11</td>\n",
       "    </tr>\n",
       "    <tr>\n",
       "      <th>6</th>\n",
       "      <td>7</td>\n",
       "      <td>10</td>\n",
       "    </tr>\n",
       "    <tr>\n",
       "      <th>7</th>\n",
       "      <td>8</td>\n",
       "      <td>9</td>\n",
       "    </tr>\n",
       "    <tr>\n",
       "      <th>8</th>\n",
       "      <td>9</td>\n",
       "      <td>3</td>\n",
       "    </tr>\n",
       "    <tr>\n",
       "      <th>9</th>\n",
       "      <td>10</td>\n",
       "      <td>12</td>\n",
       "    </tr>\n",
       "    <tr>\n",
       "      <th>10</th>\n",
       "      <td>11</td>\n",
       "      <td>4</td>\n",
       "    </tr>\n",
       "    <tr>\n",
       "      <th>11</th>\n",
       "      <td>12</td>\n",
       "      <td>9</td>\n",
       "    </tr>\n",
       "  </tbody>\n",
       "</table>\n",
       "</div>"
      ],
      "text/plain": [
       "    Month  TotalPlayer\n",
       "0       1           11\n",
       "1       2           10\n",
       "2       3            7\n",
       "3       4            8\n",
       "4       5            5\n",
       "5       6           11\n",
       "6       7           10\n",
       "7       8            9\n",
       "8       9            3\n",
       "9      10           12\n",
       "10     11            4\n",
       "11     12            9"
      ]
     },
     "execution_count": 94,
     "metadata": {},
     "output_type": "execute_result"
    }
   ],
   "source": [
    "res4 = spark.sql(\"SELECT MONTH(ht.TransactionDate) AS Month, COUNT(DISTINCT(p.PlayerId)) AS TotalPlayer FROM MsPlayer p ,TransactionHeader ht, TransactionDetail td, MsWeapon w, MsWeaponType wt WHERE p.PlayerId = ht.PlayerId AND td.TransactionId = ht.TransactionId AND w.WeaponId = td.WeaponId AND wt.WeaponTypeId = w.WeaponTypeId AND YEAR(ht.TransactionDate) = 2019 GROUP BY Month HAVING COUNT (wt.WeaponTypeId) >=3 ORDER BY Month\")\n",
    "res4 = res4.toPandas()\n",
    "res4"
   ]
  },
  {
   "cell_type": "code",
   "execution_count": 88,
   "metadata": {},
   "outputs": [
    {
     "data": {
      "image/png": "[encoded data removed]",
      "text/plain": [
       "<Figure size 432x288 with 1 Axes>"
      ]
     },
     "metadata": {
      "needs_background": "light"
     },
     "output_type": "display_data"
    }
   ],
   "source": [
    "plt.plot(res4[\"TotalPlayer\"])\n",
    "plt.xticks(range(len(res4[\"Month\"])), res4[\"Month\"])\n",
    "plt.yticks(range(len(res4[\"TotalPlayer\"])), res4[\"Month\"])\n",
    "plt.title(\"Players in 2019 Who Bought At Least 3 Different Weapon Type in a Month\")\n",
    "plt.xlabel(\"Month\")\n",
    "plt.ylabel(\"Player Count\")\n",
    "plt.show()"
   ]
  },
  {
   "cell_type": "code",
   "execution_count": 91,
   "metadata": {},
   "outputs": [
    {
     "data": {
      "text/html": [
       "<div>\n",
       "<style scoped>\n",
       "    .dataframe tbody tr th:only-of-type {\n",
       "        vertical-align: middle;\n",
       "    }\n",
       "\n",
       "    .dataframe tbody tr th {\n",
       "        vertical-align: top;\n",
       "    }\n",
       "\n",
       "    .dataframe thead th {\n",
       "        text-align: right;\n",
       "    }\n",
       "</style>\n",
       "<table border=\"1\" class=\"dataframe\">\n",
       "  <thead>\n",
       "    <tr style=\"text-align: right;\">\n",
       "      <th></th>\n",
       "      <th>Popularity</th>\n",
       "      <th>Frequency</th>\n",
       "    </tr>\n",
       "  </thead>\n",
       "  <tbody>\n",
       "    <tr>\n",
       "      <th>0</th>\n",
       "      <td>VeryPopular</td>\n",
       "      <td>2</td>\n",
       "    </tr>\n",
       "    <tr>\n",
       "      <th>1</th>\n",
       "      <td>QuitePopular</td>\n",
       "      <td>5</td>\n",
       "    </tr>\n",
       "    <tr>\n",
       "      <th>2</th>\n",
       "      <td>Popular</td>\n",
       "      <td>8</td>\n",
       "    </tr>\n",
       "  </tbody>\n",
       "</table>\n",
       "</div>"
      ],
      "text/plain": [
       "     Popularity  Frequency\n",
       "0   VeryPopular          2\n",
       "1  QuitePopular          5\n",
       "2       Popular          8"
      ]
     },
     "execution_count": 91,
     "metadata": {},
     "output_type": "execute_result"
    }
   ],
   "source": [
    "res5 = spark.sql(\"SELECT x.Popularity, COUNT(x.Popularity) AS Frequency FROM (SELECT n.NPCId,CASE WHEN SUM(WeaponPrice*Quantity) >=15000000 THEN 'VeryPopular' WHEN SUM(WeaponPrice*Quantity) >=7500000 AND SUM(WeaponPrice*Quantity) <=14999999 THEN 'Popular' WHEN SUM(Weaponprice*Quantity) >=2500000 AND SUM(WeaponPrice*Quantity) <=7499999 THEN 'QuitePopular' END AS Popularity FROM MsNPC n,TransactionHeader th, TransactionDetail td, MsWeapon w WHERE n.NPCId = th.NPCId AND th.TransactionId = td.TransactionId AND td.WeaponId = w.WeaponId GROUP BY n.NPCId)AS x GROUP BY x.Popularity ORDER BY x.Popularity DESC LIMIT 3\")\n",
    "res5 = res5.toPandas()\n",
    "res5"
   ]
  },
  {
   "cell_type": "code",
   "execution_count": 92,
   "metadata": {},
   "outputs": [
    {
     "data": {
      "image/png": "[encoded data removed]",
      "text/plain": [
       "<Figure size 432x288 with 1 Axes>"
      ]
     },
     "metadata": {
      "needs_background": "light"
     },
     "output_type": "display_data"
    }
   ],
   "source": [
    "plt.bar(res5[\"Popularity\"], res5[\"Frequency\"])\n",
    "plt.title(\"Frequency of NPC's Popularity\")\n",
    "plt.xlabel(\"Popularity\")\n",
    "plt.ylabel(\"Frequency\")\n",
    "plt.show()"
   ]
  }
 ],
 "metadata": {
  "kernelspec": {
   "display_name": "Python 3",
   "language": "python",
   "name": "python3"
  },
  "language_info": {
   "codemirror_mode": {
    "name": "ipython",
    "version": 3
   },
   "file_extension": ".py",
   "mimetype": "text/x-python",
   "name": "python",
   "nbconvert_exporter": "python",
   "pygments_lexer": "ipython3",
   "version": "3.7.6"
  }
 },
 "nbformat": 4,
 "nbformat_minor": 4
}
