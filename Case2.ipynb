{
 "cells": [
  {
   "cell_type": "code",
   "execution_count": 1,
   "metadata": {},
   "outputs": [],
   "source": [
    "from pyspark.sql import SparkSession\n",
    "from pyspark.sql.functions import when\n",
    "from pyspark.ml.feature import VectorAssembler, StandardScaler\n",
    "from pyspark.ml.classification import LogisticRegression\n",
    "from pyspark.ml.evaluation import BinaryClassificationEvaluator"
   ]
  },
  {
   "cell_type": "code",
   "execution_count": 2,
   "metadata": {},
   "outputs": [],
   "source": [
    "spark = SparkSession.builder.getOrCreate()"
   ]
  },
  {
   "cell_type": "code",
   "execution_count": 3,
   "metadata": {},
   "outputs": [],
   "source": [
    "df_train = spark.read.csv(\"Classification/Planet_Training.csv\", header=True, inferSchema=True)\n",
    "df_train = df_train.select(\"Temperature\", \"Water\", \"Atmosphere Color\", \"Habitable\")\n",
    "df_train = df_train.na.drop()"
   ]
  },
  {
   "cell_type": "code",
   "execution_count": 4,
   "metadata": {},
   "outputs": [],
   "source": [
    "df_test = spark.read.csv(\"Classification/Planet_Testing.csv\", header=True, inferSchema=True)\n",
    "df_test = df_test.select(\"Temperature\", \"Water\", \"Atmosphere Color\", \"Habitable\")\n",
    "df_test = df_test.na.drop()"
   ]
  },
  {
   "cell_type": "code",
   "execution_count": 7,
   "metadata": {},
   "outputs": [],
   "source": [
    "# df_train.show()"
   ]
  },
  {
   "cell_type": "code",
   "execution_count": 8,
   "metadata": {},
   "outputs": [],
   "source": [
    "def parse(df):\n",
    "\n",
    "    df = df.withColumn(\"Water\", when(df[\"Water\"] == \"Low\", 0).\n",
    "                      when(df[\"Water\"] == \"Medium\",1).\n",
    "                      when(df[\"Water\"] == \"High\",2))\n",
    "    \n",
    "    df = df.withColumn(\"Atmosphere Color\", when(df[\"Atmosphere Color\"] == \"Red\", 0).\n",
    "                      when(df[\"Atmosphere Color\"] == \"Blue\",1).\n",
    "                      when(df[\"Atmosphere Color\"] == \"Yellow\",2))\n",
    "    cols = df.columns\n",
    "    cols.remove(\"Habitable\")\n",
    "    df = VectorAssembler(inputCols = cols, outputCol = \"Features\").transform(df)\n",
    "    \n",
    "    scaler = StandardScaler(inputCol = \"Features\", outputCol = \"Scaled_Features\")\n",
    "    df = scaler.fit(df).transform(df)\n",
    "    \n",
    "    return df"
   ]
  },
  {
   "cell_type": "code",
   "execution_count": 9,
   "metadata": {},
   "outputs": [],
   "source": [
    "# df_train.show()\n",
    "# df_test.show()"
   ]
  },
  {
   "cell_type": "code",
   "execution_count": 10,
   "metadata": {},
   "outputs": [],
   "source": [
    "df_train = parse(df_train)\n",
    "df_test = parse(df_test)"
   ]
  },
  {
   "cell_type": "code",
   "execution_count": 11,
   "metadata": {},
   "outputs": [],
   "source": [
    "model = LogisticRegression(featuresCol = \"Scaled_Features\", labelCol = \"Habitable\", maxIter=10).fit(df_train)\n",
    "\n",
    "prediction = model.transform(df_test)"
   ]
  },
  {
   "cell_type": "code",
   "execution_count": 12,
   "metadata": {},
   "outputs": [
    {
     "name": "stdout",
     "output_type": "stream",
     "text": [
      "Accuracy : 91.71043337232418%\n"
     ]
    }
   ],
   "source": [
    "evaluator = BinaryClassificationEvaluator(labelCol=\"Habitable\")\n",
    "acc = evaluator.evaluate(prediction) * 100\n",
    "print(\"Accuracy : {}%\".format(acc))"
   ]
  },
  {
   "cell_type": "code",
   "execution_count": null,
   "metadata": {},
   "outputs": [],
   "source": []
  }
 ],
 "metadata": {
  "kernelspec": {
   "display_name": "Python 3",
   "language": "python",
   "name": "python3"
  },
  "language_info": {
   "codemirror_mode": {
    "name": "ipython",
    "version": 3
   },
   "file_extension": ".py",
   "mimetype": "text/x-python",
   "name": "python",
   "nbconvert_exporter": "python",
   "pygments_lexer": "ipython3",
   "version": "3.7.6"
  }
 },
 "nbformat": 4,
 "nbformat_minor": 4
}
